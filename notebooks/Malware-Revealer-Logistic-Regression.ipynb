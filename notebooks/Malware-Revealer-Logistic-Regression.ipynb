{
 "cells": [
  {
   "cell_type": "markdown",
   "metadata": {},
   "source": [
    "# Logistic regression model of malware revealer "
   ]
  },
  {
   "cell_type": "markdown",
   "metadata": {},
   "source": [
    "In this notebook we are tarining a logistic regression model to classify malwares / benign apart based a set of features extracted from them , it's to mention that these features have been extracted from the same data set on which we trained the CNNs . <br>\n",
    "This notebook was trained on a kaggle kernel.\n"
   ]
  },
  {
   "cell_type": "markdown",
   "metadata": {},
   "source": [
    "## 1- Import necessary libraries"
   ]
  },
  {
   "cell_type": "code",
   "execution_count": 1,
   "metadata": {
    "_cell_guid": "b1076dfc-b9ad-4769-8c92-a6c4dae69d19",
    "_uuid": "8f2839f25d086af736a60e9eeb907d3b93b6e0e5"
   },
   "outputs": [
    {
     "name": "stderr",
     "output_type": "stream",
     "text": [
      "/opt/conda/lib/python3.6/site-packages/sklearn/externals/joblib/__init__.py:15: DeprecationWarning: sklearn.externals.joblib is deprecated in 0.21 and will be removed in 0.23. Please import this functionality directly from joblib, which can be installed with: pip install joblib. If this warning is raised when loading pickled models, you may need to re-serialize those models with scikit-learn 0.21+.\n",
      "  warnings.warn(msg, category=DeprecationWarning)\n"
     ]
    }
   ],
   "source": [
    "import numpy as np \n",
    "import pandas as pd\n",
    "import os\n",
    "from sklearn.externals import joblib\n",
    "from sklearn.model_selection import train_test_split\n",
    "from sklearn import metrics\n",
    "from sklearn.linear_model import LogisticRegression"
   ]
  },
  {
   "cell_type": "markdown",
   "metadata": {},
   "source": [
    "## 2- Loading data "
   ]
  },
  {
   "cell_type": "code",
   "execution_count": 2,
   "metadata": {},
   "outputs": [],
   "source": [
    "file = \"../input/database.csv\""
   ]
  },
  {
   "cell_type": "code",
   "execution_count": 3,
   "metadata": {},
   "outputs": [],
   "source": [
    "df = pd.read_csv(file)\n",
    "df = df.reset_index()"
   ]
  },
  {
   "cell_type": "markdown",
   "metadata": {},
   "source": [
    "## 3-  Some data diagnosis "
   ]
  },
  {
   "cell_type": "code",
   "execution_count": 4,
   "metadata": {},
   "outputs": [
    {
     "name": "stdout",
     "output_type": "stream",
     "text": [
      "<class 'pandas.core.frame.DataFrame'>\n",
      "RangeIndex: 4646 entries, 0 to 4645\n",
      "Data columns (total 54 columns):\n",
      "index                                         4646 non-null int64\n",
      "Unnamed: 0                                    4646 non-null int64\n",
      "target                                        4646 non-null int64\n",
      "file_name                                     4646 non-null object\n",
      "avg_length                                    4646 non-null float64\n",
      "byte_count_mean                               4646 non-null float64\n",
      "byte_count_median                             4646 non-null float64\n",
      "has_characteristics                           4646 non-null int64\n",
      "has_debug                                     4646 non-null int64\n",
      "has_resources                                 4646 non-null int64\n",
      "has_signature                                 4646 non-null int64\n",
      "has_tls                                       4646 non-null int64\n",
      "section_counts                                4646 non-null int64\n",
      "has_symbols                                   4646 non-null int64\n",
      "paths_count                                   4646 non-null int64\n",
      "registry_count                                4646 non-null int64\n",
      "has_weird_sections                            4646 non-null int64\n",
      "file_size                                     4646 non-null int64\n",
      "sizeof_code                                   4646 non-null int64\n",
      "virtual_size                                  4646 non-null int64\n",
      "url_counts                                    4646 non-null int64\n",
      "dll_char_DYNAMIC_BASE                         4646 non-null float64\n",
      "dll_char_FORCE_INTEGRITY                      4646 non-null float64\n",
      "dll_char_GUARD_CF                             4646 non-null float64\n",
      "dll_char_HIGH_ENTROPY_VA                      4646 non-null float64\n",
      "dll_char_NO_BIND                              4646 non-null float64\n",
      "dll_char_NO_ISOLATION                         4646 non-null float64\n",
      "dll_char_NO_SEH                               4646 non-null float64\n",
      "dll_char_NX_COMPAT                            4646 non-null float64\n",
      "dll_char_TERMINAL_SERVER_AWARE                4646 non-null float64\n",
      "dll_libs_ADVAPI32.dll                         4646 non-null float64\n",
      "dll_libs_GDI32.dll                            4646 non-null float64\n",
      "dll_libs_KERNEL32.dll                         4646 non-null float64\n",
      "dll_libs_OLEAUT32.dll                         4646 non-null float64\n",
      "dll_libs_SHELL32.dll                          4646 non-null float64\n",
      "dll_libs_USER32.dll                           4646 non-null float64\n",
      "dll_libs_kernel32.dll                         4646 non-null float64\n",
      "dll_libs_msvcrt.dll                           4646 non-null float64\n",
      "dll_libs_ntdll.dll                            4646 non-null float64\n",
      "dll_libs_ole32.dll                            4646 non-null float64\n",
      "imp_func_CloseHandle                          4646 non-null float64\n",
      "imp_func_GetCurrentProcess                    4646 non-null float64\n",
      "imp_func_GetCurrentProcessId                  4646 non-null float64\n",
      "imp_func_GetCurrentThreadId                   4646 non-null float64\n",
      "imp_func_GetLastError                         4646 non-null float64\n",
      "imp_func_GetProcAddress                       4646 non-null float64\n",
      "imp_func_SetUnhandledExceptionFilter          4646 non-null float64\n",
      "imp_func_Sleep                                4646 non-null float64\n",
      "imp_func_TerminateProcess                     4646 non-null float64\n",
      "imp_func_UnhandledExceptionFilter             4646 non-null float64\n",
      "subsys__SUBSYSTEM.NATIVE                      4646 non-null float64\n",
      "subsys__SUBSYSTEM.WINDOWS_BOOT_APPLICATION    4646 non-null float64\n",
      "subsys__SUBSYSTEM.WINDOWS_CUI                 4646 non-null float64\n",
      "subsys__SUBSYSTEM.WINDOWS_GUI                 4646 non-null float64\n",
      "dtypes: float64(36), int64(17), object(1)\n",
      "memory usage: 1.9+ MB\n"
     ]
    }
   ],
   "source": [
    "df.info()"
   ]
  },
  {
   "cell_type": "code",
   "execution_count": 5,
   "metadata": {},
   "outputs": [
    {
     "name": "stdout",
     "output_type": "stream",
     "text": [
      "(4646, 54)\n"
     ]
    }
   ],
   "source": [
    "print(df.shape)\n",
    "df = df.reindex(sorted(df.columns), axis=1)"
   ]
  },
  {
   "cell_type": "markdown",
   "metadata": {},
   "source": [
    "## 4- Specifying features and targets"
   ]
  },
  {
   "cell_type": "code",
   "execution_count": 6,
   "metadata": {},
   "outputs": [],
   "source": [
    "X = df.drop(['target','file_name','index'],axis = 1)\n",
    "y = df.target"
   ]
  },
  {
   "cell_type": "markdown",
   "metadata": {},
   "source": [
    "## 5- Splitting the data set "
   ]
  },
  {
   "cell_type": "code",
   "execution_count": 7,
   "metadata": {},
   "outputs": [],
   "source": [
    "test_percentage = 0.3\n",
    "X_train, X_test, y_train, y_test = train_test_split(X, y, test_size=test_percentage)"
   ]
  },
  {
   "cell_type": "markdown",
   "metadata": {},
   "source": [
    "## 6- Training the model  "
   ]
  },
  {
   "cell_type": "code",
   "execution_count": 8,
   "metadata": {},
   "outputs": [
    {
     "name": "stderr",
     "output_type": "stream",
     "text": [
      "/opt/conda/lib/python3.6/site-packages/scipy/optimize/linesearch.py:462: LineSearchWarning: The line search algorithm did not converge\n",
      "  warn('The line search algorithm did not converge', LineSearchWarning)\n",
      "/opt/conda/lib/python3.6/site-packages/scipy/optimize/linesearch.py:313: LineSearchWarning: The line search algorithm did not converge\n",
      "  warn('The line search algorithm did not converge', LineSearchWarning)\n",
      "/opt/conda/lib/python3.6/site-packages/scipy/optimize/linesearch.py:462: LineSearchWarning: The line search algorithm did not converge\n",
      "  warn('The line search algorithm did not converge', LineSearchWarning)\n",
      "/opt/conda/lib/python3.6/site-packages/scipy/optimize/linesearch.py:313: LineSearchWarning: The line search algorithm did not converge\n",
      "  warn('The line search algorithm did not converge', LineSearchWarning)\n",
      "/opt/conda/lib/python3.6/site-packages/scipy/optimize/linesearch.py:462: LineSearchWarning: The line search algorithm did not converge\n",
      "  warn('The line search algorithm did not converge', LineSearchWarning)\n",
      "/opt/conda/lib/python3.6/site-packages/scipy/optimize/linesearch.py:313: LineSearchWarning: The line search algorithm did not converge\n",
      "  warn('The line search algorithm did not converge', LineSearchWarning)\n",
      "/opt/conda/lib/python3.6/site-packages/scipy/optimize/linesearch.py:462: LineSearchWarning: The line search algorithm did not converge\n",
      "  warn('The line search algorithm did not converge', LineSearchWarning)\n",
      "/opt/conda/lib/python3.6/site-packages/scipy/optimize/linesearch.py:313: LineSearchWarning: The line search algorithm did not converge\n",
      "  warn('The line search algorithm did not converge', LineSearchWarning)\n",
      "/opt/conda/lib/python3.6/site-packages/scipy/optimize/linesearch.py:462: LineSearchWarning: The line search algorithm did not converge\n",
      "  warn('The line search algorithm did not converge', LineSearchWarning)\n",
      "/opt/conda/lib/python3.6/site-packages/scipy/optimize/linesearch.py:313: LineSearchWarning: The line search algorithm did not converge\n",
      "  warn('The line search algorithm did not converge', LineSearchWarning)\n",
      "/opt/conda/lib/python3.6/site-packages/sklearn/utils/optimize.py:203: ConvergenceWarning: newton-cg failed to converge. Increase the number of iterations.\n",
      "  \"number of iterations.\", ConvergenceWarning)\n"
     ]
    },
    {
     "data": {
      "text/plain": [
       "LogisticRegression(C=1.0, class_weight=None, dual=False, fit_intercept=True,\n",
       "                   intercept_scaling=1, l1_ratio=None, max_iter=100,\n",
       "                   multi_class='warn', n_jobs=None, penalty='l2',\n",
       "                   random_state=None, solver='newton-cg', tol=0.0001, verbose=0,\n",
       "                   warm_start=False)"
      ]
     },
     "execution_count": 8,
     "metadata": {},
     "output_type": "execute_result"
    }
   ],
   "source": [
    "clf = LogisticRegression( solver='newton-cg')\n",
    "clf.fit(X_train,y_train)"
   ]
  },
  {
   "cell_type": "markdown",
   "metadata": {},
   "source": [
    "## 7 - Evaluating the model "
   ]
  },
  {
   "cell_type": "code",
   "execution_count": 9,
   "metadata": {},
   "outputs": [
    {
     "name": "stdout",
     "output_type": "stream",
     "text": [
      "Model's accuracy on a separate test set : \n"
     ]
    },
    {
     "data": {
      "text/plain": [
       "0.8794835007173601"
      ]
     },
     "execution_count": 9,
     "metadata": {},
     "output_type": "execute_result"
    }
   ],
   "source": [
    "y_pred = clf.predict(X_test)\n",
    "print(\"Model's accuracy on a separate test set : \")\n",
    "clf.score(X_test, y_test)"
   ]
  },
  {
   "cell_type": "code",
   "execution_count": 10,
   "metadata": {},
   "outputs": [
    {
     "name": "stdout",
     "output_type": "stream",
     "text": [
      "true positives  rate 492\n",
      "false positives  rate 16\n",
      "true negatives  rate 734\n",
      "false negatives  rate 152\n",
      "F1 Score = 0.8541666666666666\n"
     ]
    }
   ],
   "source": [
    "tn, fp, fn, tp  = metrics.confusion_matrix(y_test, y_pred, labels=None, sample_weight=None).ravel()\n",
    "print('true positives  rate {}'.format(tp))\n",
    "print('false positives  rate {}'.format(fp))\n",
    "print('true negatives  rate {}'.format(tn))\n",
    "print('false negatives  rate {}'.format(fn))\n",
    "print(\"F1 Score = {}\".format(metrics.f1_score(y_test, y_pred)))"
   ]
  },
  {
   "cell_type": "markdown",
   "metadata": {},
   "source": [
    "## 8- Save the trained model "
   ]
  },
  {
   "cell_type": "code",
   "execution_count": 11,
   "metadata": {},
   "outputs": [
    {
     "data": {
      "text/plain": [
       "['LogisticRegression.sav']"
      ]
     },
     "execution_count": 11,
     "metadata": {},
     "output_type": "execute_result"
    }
   ],
   "source": [
    "file_name = \"LogisticRegression.sav\"\n",
    "joblib.dump(clf, file_name)"
   ]
  }
 ],
 "metadata": {
  "kernelspec": {
   "display_name": "Python 3",
   "language": "python",
   "name": "python3"
  },
  "language_info": {
   "codemirror_mode": {
    "name": "ipython",
    "version": 3
   },
   "file_extension": ".py",
   "mimetype": "text/x-python",
   "name": "python",
   "nbconvert_exporter": "python",
   "pygments_lexer": "ipython3",
   "version": "3.6.6"
  }
 },
 "nbformat": 4,
 "nbformat_minor": 1
}
